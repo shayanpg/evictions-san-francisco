{
 "cells": [
  {
   "cell_type": "code",
   "execution_count": 9,
   "metadata": {},
   "outputs": [],
   "source": [
    "import pandas as pd"
   ]
  },
  {
   "cell_type": "code",
   "execution_count": 35,
   "metadata": {},
   "outputs": [
    {
     "data": {
      "text/html": [
       "<div>\n",
       "<style scoped>\n",
       "    .dataframe tbody tr th:only-of-type {\n",
       "        vertical-align: middle;\n",
       "    }\n",
       "\n",
       "    .dataframe tbody tr th {\n",
       "        vertical-align: top;\n",
       "    }\n",
       "\n",
       "    .dataframe thead th {\n",
       "        text-align: right;\n",
       "    }\n",
       "</style>\n",
       "<table border=\"1\" class=\"dataframe\">\n",
       "  <thead>\n",
       "    <tr style=\"text-align: right;\">\n",
       "      <th></th>\n",
       "      <th>ID</th>\n",
       "      <th>Address</th>\n",
       "      <th>Zipcode</th>\n",
       "      <th>File Date</th>\n",
       "      <th>Non Payment</th>\n",
       "      <th>Breach</th>\n",
       "      <th>Nuisance</th>\n",
       "      <th>Illegal Use</th>\n",
       "      <th>Failure to Sign Renewal</th>\n",
       "      <th>Access Denial</th>\n",
       "      <th>...</th>\n",
       "      <th>Condo Conversion</th>\n",
       "      <th>Roommate Same Unit</th>\n",
       "      <th>Other Cause</th>\n",
       "      <th>Late Payments</th>\n",
       "      <th>Lead Remediation</th>\n",
       "      <th>Development</th>\n",
       "      <th>Good Samaritan Ends</th>\n",
       "      <th>Supervisor District</th>\n",
       "      <th>Neighborhood</th>\n",
       "      <th>Shape</th>\n",
       "    </tr>\n",
       "  </thead>\n",
       "  <tbody>\n",
       "    <tr>\n",
       "      <th>0</th>\n",
       "      <td>M021518</td>\n",
       "      <td>2200 Block Of Baker  Street</td>\n",
       "      <td>94123</td>\n",
       "      <td>2002-10-09</td>\n",
       "      <td>0</td>\n",
       "      <td>0</td>\n",
       "      <td>0</td>\n",
       "      <td>0</td>\n",
       "      <td>0</td>\n",
       "      <td>0</td>\n",
       "      <td>...</td>\n",
       "      <td>0</td>\n",
       "      <td>0</td>\n",
       "      <td>0</td>\n",
       "      <td>0</td>\n",
       "      <td>0</td>\n",
       "      <td>0</td>\n",
       "      <td>0</td>\n",
       "      <td>2</td>\n",
       "      <td>Pacific Heights</td>\n",
       "      <td>POINT (-122.44458 37.791653)</td>\n",
       "    </tr>\n",
       "    <tr>\n",
       "      <th>1</th>\n",
       "      <td>M201619</td>\n",
       "      <td>300 Block Of Brighton  Avenue</td>\n",
       "      <td>94112</td>\n",
       "      <td>2020-11-12</td>\n",
       "      <td>0</td>\n",
       "      <td>1</td>\n",
       "      <td>0</td>\n",
       "      <td>0</td>\n",
       "      <td>0</td>\n",
       "      <td>0</td>\n",
       "      <td>...</td>\n",
       "      <td>0</td>\n",
       "      <td>0</td>\n",
       "      <td>0</td>\n",
       "      <td>0</td>\n",
       "      <td>0</td>\n",
       "      <td>0</td>\n",
       "      <td>0</td>\n",
       "      <td>NaN</td>\n",
       "      <td>NaN</td>\n",
       "      <td>NaN</td>\n",
       "    </tr>\n",
       "    <tr>\n",
       "      <th>2</th>\n",
       "      <td>M070020</td>\n",
       "      <td>200 Block Of Guerrero  Street</td>\n",
       "      <td>94110</td>\n",
       "      <td>2007-02-08</td>\n",
       "      <td>0</td>\n",
       "      <td>0</td>\n",
       "      <td>0</td>\n",
       "      <td>0</td>\n",
       "      <td>0</td>\n",
       "      <td>0</td>\n",
       "      <td>...</td>\n",
       "      <td>0</td>\n",
       "      <td>0</td>\n",
       "      <td>0</td>\n",
       "      <td>0</td>\n",
       "      <td>0</td>\n",
       "      <td>0</td>\n",
       "      <td>0</td>\n",
       "      <td>8</td>\n",
       "      <td>Mission</td>\n",
       "      <td>POINT (-122.42439 37.76721)</td>\n",
       "    </tr>\n",
       "    <tr>\n",
       "      <th>3</th>\n",
       "      <td>M200675</td>\n",
       "      <td>100 Block Of Waller  Street</td>\n",
       "      <td>94102</td>\n",
       "      <td>2020-05-05</td>\n",
       "      <td>0</td>\n",
       "      <td>1</td>\n",
       "      <td>0</td>\n",
       "      <td>0</td>\n",
       "      <td>0</td>\n",
       "      <td>0</td>\n",
       "      <td>...</td>\n",
       "      <td>0</td>\n",
       "      <td>0</td>\n",
       "      <td>0</td>\n",
       "      <td>0</td>\n",
       "      <td>0</td>\n",
       "      <td>0</td>\n",
       "      <td>0</td>\n",
       "      <td>NaN</td>\n",
       "      <td>NaN</td>\n",
       "      <td>NaN</td>\n",
       "    </tr>\n",
       "    <tr>\n",
       "      <th>4</th>\n",
       "      <td>M200463</td>\n",
       "      <td>200 Block Of Kingking  Street</td>\n",
       "      <td>94107</td>\n",
       "      <td>2020-03-06</td>\n",
       "      <td>0</td>\n",
       "      <td>1</td>\n",
       "      <td>0</td>\n",
       "      <td>0</td>\n",
       "      <td>0</td>\n",
       "      <td>0</td>\n",
       "      <td>...</td>\n",
       "      <td>0</td>\n",
       "      <td>0</td>\n",
       "      <td>0</td>\n",
       "      <td>0</td>\n",
       "      <td>0</td>\n",
       "      <td>0</td>\n",
       "      <td>0</td>\n",
       "      <td>NaN</td>\n",
       "      <td>NaN</td>\n",
       "      <td>NaN</td>\n",
       "    </tr>\n",
       "  </tbody>\n",
       "</table>\n",
       "<p>5 rows × 26 columns</p>\n",
       "</div>"
      ],
      "text/plain": [
       "        ID                        Address Zipcode  File Date  Non Payment  \\\n",
       "0  M021518    2200 Block Of Baker  Street   94123 2002-10-09            0   \n",
       "1  M201619  300 Block Of Brighton  Avenue   94112 2020-11-12            0   \n",
       "2  M070020  200 Block Of Guerrero  Street   94110 2007-02-08            0   \n",
       "3  M200675    100 Block Of Waller  Street   94102 2020-05-05            0   \n",
       "4  M200463  200 Block Of Kingking  Street   94107 2020-03-06            0   \n",
       "\n",
       "   Breach  Nuisance  Illegal Use  Failure to Sign Renewal  Access Denial  ...  \\\n",
       "0       0         0            0                        0              0  ...   \n",
       "1       1         0            0                        0              0  ...   \n",
       "2       0         0            0                        0              0  ...   \n",
       "3       1         0            0                        0              0  ...   \n",
       "4       1         0            0                        0              0  ...   \n",
       "\n",
       "   Condo Conversion  Roommate Same Unit  Other Cause  Late Payments  \\\n",
       "0                 0                   0            0              0   \n",
       "1                 0                   0            0              0   \n",
       "2                 0                   0            0              0   \n",
       "3                 0                   0            0              0   \n",
       "4                 0                   0            0              0   \n",
       "\n",
       "   Lead Remediation  Development  Good Samaritan Ends  Supervisor District  \\\n",
       "0                 0            0                    0                    2   \n",
       "1                 0            0                    0                  NaN   \n",
       "2                 0            0                    0                    8   \n",
       "3                 0            0                    0                  NaN   \n",
       "4                 0            0                    0                  NaN   \n",
       "\n",
       "      Neighborhood                         Shape  \n",
       "0  Pacific Heights  POINT (-122.44458 37.791653)  \n",
       "1              NaN                           NaN  \n",
       "2          Mission   POINT (-122.42439 37.76721)  \n",
       "3              NaN                           NaN  \n",
       "4              NaN                           NaN  \n",
       "\n",
       "[5 rows x 26 columns]"
      ]
     },
     "execution_count": 35,
     "metadata": {},
     "output_type": "execute_result"
    }
   ],
   "source": [
    "cols = ['Eviction ID', 'Address', 'City', 'State',\n",
    "       'Eviction Notice Source Zipcode', 'File Date', 'Non Payment', 'Breach',\n",
    "       'Nuisance', 'Illegal Use', 'Failure to Sign Renewal', 'Access Denial',\n",
    "       'Unapproved Subtenant', 'Owner Move In', 'Demolition',\n",
    "       'Capital Improvement', 'Substantial Rehab', 'Ellis Act WithDrawal',\n",
    "       'Condo Conversion', 'Roommate Same Unit', 'Other Cause',\n",
    "       'Late Payments', 'Lead Remediation', 'Development',\n",
    "       'Good Samaritan Ends', 'Constraints Date', 'Supervisor District',\n",
    "       'Neighborhoods - Analysis Boundaries', 'Location', 'Shape',\n",
    "       'SF Find Neighborhoods', 'Current Police Districts',\n",
    "       'Current Supervisor Districts', 'Analysis Neighborhoods',\n",
    "       'DELETE - Neighborhoods', 'DELETE - Police Districts',\n",
    "       'DELETE - Supervisor Districts', 'DELETE - Fire Prevention Districts',\n",
    "       'DELETE - Zip Codes', 'CBD, BID and GBD Boundaries as of 2017',\n",
    "       'Central Market/Tenderloin Boundary', 'Areas of Vulnerability, 2016',\n",
    "       'Central Market/Tenderloin Boundary Polygon - Updated',\n",
    "       'Fix It Zones as of 2018-02-07', 'Neighborhoods']\n",
    "types = [str] * len(cols)\n",
    "\n",
    "evictions = pd.read_csv('eviction_notices.csv', dtype=dict(zip(cols, types)))\n",
    "evictions['File Date'] = pd.to_datetime(evictions['File Date'])\n",
    "\n",
    "evictions = evictions[['Eviction ID', 'Address',\n",
    "       'Eviction Notice Source Zipcode', 'File Date', 'Non Payment', 'Breach',\n",
    "       'Nuisance', 'Illegal Use', 'Failure to Sign Renewal', 'Access Denial',\n",
    "       'Unapproved Subtenant', 'Owner Move In', 'Demolition',\n",
    "       'Capital Improvement', 'Substantial Rehab', 'Ellis Act WithDrawal',\n",
    "       'Condo Conversion', 'Roommate Same Unit', 'Other Cause',\n",
    "       'Late Payments', 'Lead Remediation', 'Development',\n",
    "       'Good Samaritan Ends', 'Supervisor District',\n",
    "       'Neighborhoods - Analysis Boundaries', 'Shape']\n",
    "]\n",
    "evictions.columns = ['ID', 'Address',\n",
    "       'Zipcode', 'File Date', 'Non Payment', 'Breach',\n",
    "       'Nuisance', 'Illegal Use', 'Failure to Sign Renewal', 'Access Denial',\n",
    "       'Unapproved Subtenant', 'Owner Move In', 'Demolition',\n",
    "       'Capital Improvement', 'Substantial Rehab', 'Ellis Act WithDrawal',\n",
    "       'Condo Conversion', 'Roommate Same Unit', 'Other Cause',\n",
    "       'Late Payments', 'Lead Remediation', 'Development',\n",
    "       'Good Samaritan Ends', 'Supervisor District',\n",
    "       'Neighborhood', 'Shape']\n",
    "evictions.replace('false', 0, inplace=True)\n",
    "evictions.replace('true', 1, inplace=True)\n",
    "\n",
    "\n",
    "evictions.head()"
   ]
  },
  {
   "cell_type": "code",
   "execution_count": 36,
   "metadata": {},
   "outputs": [
    {
     "data": {
      "text/plain": [
       "73"
      ]
     },
     "execution_count": 36,
     "metadata": {},
     "output_type": "execute_result"
    }
   ],
   "source": [
    "sum(evictions.Neighborhood.isna())"
   ]
  },
  {
   "cell_type": "markdown",
   "metadata": {},
   "source": [
    "@Noah There are 73 evictions with no neighborhood. We could fill these in based on the addresses?"
   ]
  },
  {
   "cell_type": "code",
   "execution_count": 37,
   "metadata": {},
   "outputs": [
    {
     "data": {
      "text/plain": [
       "42242"
      ]
     },
     "execution_count": 37,
     "metadata": {},
     "output_type": "execute_result"
    }
   ],
   "source": [
    "len(evictions)"
   ]
  },
  {
   "cell_type": "code",
   "execution_count": 38,
   "metadata": {},
   "outputs": [
    {
     "data": {
      "text/plain": [
       "60"
      ]
     },
     "execution_count": 38,
     "metadata": {},
     "output_type": "execute_result"
    }
   ],
   "source": [
    "sum(evictions.Shape.isna())"
   ]
  },
  {
   "cell_type": "code",
   "execution_count": 39,
   "metadata": {},
   "outputs": [
    {
     "data": {
      "text/plain": [
       "60"
      ]
     },
     "execution_count": 39,
     "metadata": {},
     "output_type": "execute_result"
    }
   ],
   "source": [
    "sum(evictions[evictions.Neighborhood.isna()].Shape.isna())"
   ]
  },
  {
   "cell_type": "markdown",
   "metadata": {},
   "source": [
    "This means there are 13 Valid shapes for a NaN neighborhood that we could fill in, and that the shape is valid for all evictions with a neighborhood listed"
   ]
  },
  {
   "cell_type": "code",
   "execution_count": 40,
   "metadata": {},
   "outputs": [
    {
     "data": {
      "text/plain": [
       "73"
      ]
     },
     "execution_count": 40,
     "metadata": {},
     "output_type": "execute_result"
    }
   ],
   "source": [
    "sum(evictions['Supervisor District'].isna())"
   ]
  },
  {
   "cell_type": "code",
   "execution_count": 42,
   "metadata": {},
   "outputs": [
    {
     "data": {
      "text/plain": [
       "73"
      ]
     },
     "execution_count": 42,
     "metadata": {},
     "output_type": "execute_result"
    }
   ],
   "source": [
    "sum(evictions[evictions['Supervisor District'].isna()].Neighborhood.isna())"
   ]
  },
  {
   "cell_type": "markdown",
   "metadata": {},
   "source": [
    "Means Supervisor district and Neighborhood are Null in the exact same places"
   ]
  },
  {
   "cell_type": "code",
   "execution_count": 45,
   "metadata": {},
   "outputs": [
    {
     "data": {
      "text/plain": [
       "0"
      ]
     },
     "execution_count": 45,
     "metadata": {},
     "output_type": "execute_result"
    }
   ],
   "source": [
    "sum(evictions.Address.isna())"
   ]
  },
  {
   "cell_type": "code",
   "execution_count": 46,
   "metadata": {},
   "outputs": [
    {
     "data": {
      "text/plain": [
       "652"
      ]
     },
     "execution_count": 46,
     "metadata": {},
     "output_type": "execute_result"
    }
   ],
   "source": [
    "sum(evictions.Zipcode.isna())"
   ]
  },
  {
   "cell_type": "code",
   "execution_count": 47,
   "metadata": {},
   "outputs": [
    {
     "data": {
      "text/plain": [
       "0"
      ]
     },
     "execution_count": 47,
     "metadata": {},
     "output_type": "execute_result"
    }
   ],
   "source": [
    "sum(evictions['File Date'].isna())"
   ]
  },
  {
   "cell_type": "code",
   "execution_count": null,
   "metadata": {},
   "outputs": [],
   "source": []
  },
  {
   "cell_type": "code",
   "execution_count": 64,
   "metadata": {},
   "outputs": [
    {
     "data": {
      "text/html": [
       "<div>\n",
       "<style scoped>\n",
       "    .dataframe tbody tr th:only-of-type {\n",
       "        vertical-align: middle;\n",
       "    }\n",
       "\n",
       "    .dataframe tbody tr th {\n",
       "        vertical-align: top;\n",
       "    }\n",
       "\n",
       "    .dataframe thead th {\n",
       "        text-align: right;\n",
       "    }\n",
       "</style>\n",
       "<table border=\"1\" class=\"dataframe\">\n",
       "  <thead>\n",
       "    <tr style=\"text-align: right;\">\n",
       "      <th></th>\n",
       "      <th>index</th>\n",
       "      <th>File Date</th>\n",
       "    </tr>\n",
       "  </thead>\n",
       "  <tbody>\n",
       "    <tr>\n",
       "      <th>1182</th>\n",
       "      <td>1997-01-02</td>\n",
       "      <td>10</td>\n",
       "    </tr>\n",
       "    <tr>\n",
       "      <th>2529</th>\n",
       "      <td>1997-01-03</td>\n",
       "      <td>7</td>\n",
       "    </tr>\n",
       "    <tr>\n",
       "      <th>481</th>\n",
       "      <td>1997-01-06</td>\n",
       "      <td>14</td>\n",
       "    </tr>\n",
       "    <tr>\n",
       "      <th>4256</th>\n",
       "      <td>1997-01-07</td>\n",
       "      <td>4</td>\n",
       "    </tr>\n",
       "    <tr>\n",
       "      <th>475</th>\n",
       "      <td>1997-01-08</td>\n",
       "      <td>14</td>\n",
       "    </tr>\n",
       "  </tbody>\n",
       "</table>\n",
       "</div>"
      ],
      "text/plain": [
       "          index  File Date\n",
       "1182 1997-01-02         10\n",
       "2529 1997-01-03          7\n",
       "481  1997-01-06         14\n",
       "4256 1997-01-07          4\n",
       "475  1997-01-08         14"
      ]
     },
     "execution_count": 64,
     "metadata": {},
     "output_type": "execute_result"
    }
   ],
   "source": [
    "over_time = pd.DataFrame(evictions['File Date'].value_counts()).reset_index().sort_values('index', ascending=True)\n",
    "over_time.head()"
   ]
  },
  {
   "cell_type": "code",
   "execution_count": 66,
   "metadata": {},
   "outputs": [
    {
     "name": "stderr",
     "output_type": "stream",
     "text": [
      "C:\\Users\\Shaya\\Anaconda3\\lib\\site-packages\\statsmodels\\tools\\_testing.py:19: FutureWarning: pandas.util.testing is deprecated. Use the functions in the public API at pandas.testing instead.\n",
      "  import pandas.util.testing as tm\n"
     ]
    }
   ],
   "source": [
    "import seaborn as sns"
   ]
  },
  {
   "cell_type": "code",
   "execution_count": 67,
   "metadata": {},
   "outputs": [
    {
     "data": {
      "text/plain": [
       "<matplotlib.axes._subplots.AxesSubplot at 0x1db00d201d0>"
      ]
     },
     "execution_count": 67,
     "metadata": {},
     "output_type": "execute_result"
    },
    {
     "data": {
      "image/png": "[encoded data removed]",
      "text/plain": [
       "<Figure size 432x288 with 1 Axes>"
      ]
     },
     "metadata": {
      "needs_background": "light"
     },
     "output_type": "display_data"
    }
   ],
   "source": [
    "over_time.columns = ['Date', 'Count']\n",
    "sns.scatterplot(x='Date', y='Count', data=over_time)"
   ]
  },
  {
   "cell_type": "code",
   "execution_count": 75,
   "metadata": {},
   "outputs": [
    {
     "data": {
      "text/html": [
       "<div>\n",
       "<style scoped>\n",
       "    .dataframe tbody tr th:only-of-type {\n",
       "        vertical-align: middle;\n",
       "    }\n",
       "\n",
       "    .dataframe tbody tr th {\n",
       "        vertical-align: top;\n",
       "    }\n",
       "\n",
       "    .dataframe thead th {\n",
       "        text-align: right;\n",
       "    }\n",
       "</style>\n",
       "<table border=\"1\" class=\"dataframe\">\n",
       "  <thead>\n",
       "    <tr style=\"text-align: right;\">\n",
       "      <th></th>\n",
       "      <th>Date</th>\n",
       "      <th>Count</th>\n",
       "    </tr>\n",
       "  </thead>\n",
       "  <tbody>\n",
       "    <tr>\n",
       "      <th>2</th>\n",
       "      <td>2010-09-24</td>\n",
       "      <td>112</td>\n",
       "    </tr>\n",
       "    <tr>\n",
       "      <th>0</th>\n",
       "      <td>2012-08-16</td>\n",
       "      <td>240</td>\n",
       "    </tr>\n",
       "    <tr>\n",
       "      <th>1</th>\n",
       "      <td>2016-02-05</td>\n",
       "      <td>232</td>\n",
       "    </tr>\n",
       "  </tbody>\n",
       "</table>\n",
       "</div>"
      ],
      "text/plain": [
       "        Date  Count\n",
       "2 2010-09-24    112\n",
       "0 2012-08-16    240\n",
       "1 2016-02-05    232"
      ]
     },
     "execution_count": 75,
     "metadata": {},
     "output_type": "execute_result"
    }
   ],
   "source": [
    "over_time[over_time.Count > 100]"
   ]
  },
  {
   "cell_type": "code",
   "execution_count": 74,
   "metadata": {},
   "outputs": [
    {
     "data": {
      "text/plain": [
       "<matplotlib.axes._subplots.AxesSubplot at 0x1db00df3dd8>"
      ]
     },
     "execution_count": 74,
     "metadata": {},
     "output_type": "execute_result"
    },
    {
     "data": {
      "image/png": "[encoded data removed]",
      "text/plain": [
       "<Figure size 432x288 with 1 Axes>"
      ]
     },
     "metadata": {
      "needs_background": "light"
     },
     "output_type": "display_data"
    }
   ],
   "source": [
    "by_year = pd.DataFrame(evictions['File Date'].dt.year.value_counts()).reset_index().sort_values('index', ascending=True)\n",
    "by_year.columns = ['Date', 'Count']\n",
    "sns.scatterplot(x='Date', y='Count', data=by_year)"
   ]
  },
  {
   "cell_type": "code",
   "execution_count": null,
   "metadata": {},
   "outputs": [],
   "source": []
  }
 ],
 "metadata": {
  "kernelspec": {
   "display_name": "Python 3",
   "language": "python",
   "name": "python3"
  },
  "language_info": {
   "codemirror_mode": {
    "name": "ipython",
    "version": 3
   },
   "file_extension": ".py",
   "mimetype": "text/x-python",
   "name": "python",
   "nbconvert_exporter": "python",
   "pygments_lexer": "ipython3",
   "version": "3.7.3"
  }
 },
 "nbformat": 4,
 "nbformat_minor": 4
}
